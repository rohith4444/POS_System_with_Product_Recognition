{
  "nbformat": 4,
  "nbformat_minor": 0,
  "metadata": {
    "colab": {
      "name": "Trial_IRCNN.ipynb",
      "provenance": [],
      "collapsed_sections": []
    },
    "kernelspec": {
      "name": "python3",
      "display_name": "Python 3"
    },
    "language_info": {
      "name": "python"
    },
    "accelerator": "GPU"
  },
  "cells": [
    {
      "cell_type": "code",
      "execution_count": null,
      "metadata": {
        "id": "DwazQ6mNh_YT",
        "colab": {
          "base_uri": "https://localhost:8080/"
        },
        "outputId": "ea5b424d-28d7-433e-9f86-3fade4316e11"
      },
      "outputs": [
        {
          "output_type": "stream",
          "name": "stdout",
          "text": [
            "Drive already mounted at /content/drive; to attempt to forcibly remount, call drive.mount(\"/content/drive\", force_remount=True).\n"
          ]
        }
      ],
      "source": [
        "from google.colab import drive\n",
        "drive.mount('/content/drive')"
      ]
    },
    {
      "cell_type": "code",
      "source": [
        "import numpy as np\n",
        "\n",
        "# Sys\n",
        "import warnings\n",
        "# Keras Core\n",
        "import tensorflow as tf\n",
        "from keras.layers.convolutional import MaxPooling2D, Convolution2D, AveragePooling2D\n",
        "from keras.layers.pooling import GlobalAveragePooling2D\n",
        "from keras.layers import Input, Dropout, Dense, Flatten, Activation\n",
        "from tensorflow.keras.layers import BatchNormalization\n",
        "from keras.layers.merge import concatenate\n",
        "from keras.layers import Add\n",
        "from keras import regularizers\n",
        "from keras import initializers\n",
        "from keras.models import Model\n",
        "from keras import optimizers\n",
        "from keras import callbacks\n",
        "import math\n",
        "from keras_preprocessing.image import ImageDataGenerator\n",
        "\n",
        "# Backend\n",
        "from keras import backend as K\n"
      ],
      "metadata": {
        "id": "wCBbU5PziEfC"
      },
      "execution_count": null,
      "outputs": []
    },
    {
      "cell_type": "code",
      "source": [
        "aug = ImageDataGenerator(\n",
        "                         samplewise_center=True,\n",
        "                         samplewise_std_normalization=True)\n",
        "bs = 16\n",
        "train_path = '/content/drive/MyDrive/TDS/Data Set/Training Dataset'\n",
        "valid_path = '/content/drive/MyDrive/TDS/Data Set/Validation Dataset'\n",
        "\n",
        "train_generator = aug.flow_from_directory(\n",
        "    train_path,\n",
        "    target_size=(256, 256),\n",
        "    batch_size=bs) # set as training data\n",
        "\n",
        "validation_generator = aug.flow_from_directory(\n",
        "    '/content/drive/MyDrive/TDS/Data Set/Validation Dataset', # same directory as training data\n",
        "    target_size=(256, 256),\n",
        "    batch_size=bs) # set as validation data"
      ],
      "metadata": {
        "id": "mTh8jlfXiEhw",
        "colab": {
          "base_uri": "https://localhost:8080/"
        },
        "outputId": "f867f011-fd90-4b44-c968-c035fd953a8c"
      },
      "execution_count": null,
      "outputs": [
        {
          "output_type": "stream",
          "name": "stdout",
          "text": [
            "Found 6000 images belonging to 10 classes.\n",
            "Found 3000 images belonging to 10 classes.\n"
          ]
        }
      ]
    },
    {
      "cell_type": "code",
      "source": [
        "# Change this according to your dataset\n",
        "image_size = 256\n",
        "no_classes = 10"
      ],
      "metadata": {
        "id": "ZbSNZnFGiEkl"
      },
      "execution_count": null,
      "outputs": []
    },
    {
      "cell_type": "code",
      "source": [
        "# Convolution 2D with batch norm\n",
        "def conv2d_bn(x, nb_filter, num_row, num_col,\n",
        "            padding='same', strides=(1, 1), use_bias=False):\n",
        "  \"\"\"\n",
        "  Utility function to apply conv + BN. \n",
        "  (Slightly modified from https://github.com/fchollet/keras/blob/master/keras/applications/inception_v3.py)\n",
        "  \"\"\"\n",
        "  if K.image_data_format() == 'channels_first':\n",
        "    channel_axis = 1\n",
        "  else:\n",
        "    channel_axis = -1\n",
        "  x = Convolution2D(nb_filter, (num_row, num_col),\n",
        "                    strides=strides,\n",
        "                    padding=padding,\n",
        "                    use_bias=use_bias,\n",
        "                    kernel_regularizer=regularizers.l2(0.00004),\n",
        "                    kernel_initializer=initializers.VarianceScaling(scale=2.0, mode='fan_in', distribution='normal', seed=None))(x)\n",
        "  x = BatchNormalization(axis=channel_axis, momentum=0.9997, scale=False)(x)\n",
        "  x = Activation('relu')(x)\n",
        "  return x\n",
        "\n",
        "# Recurrent convolutional layer\n",
        "def RCL(input, kernel_size, filedepth):\n",
        "  if K.image_data_format() == 'channels_first':\n",
        "    channel_axis = 1\n",
        "  else:\n",
        "    channel_axis = -1\n",
        "\n",
        "  conv1 = Convolution2D(filters=filedepth, kernel_size=kernel_size, strides=(1, 1), padding='same',\n",
        "                 kernel_regularizer=regularizers.l2(0.00004),\n",
        "                 kernel_initializer=initializers.VarianceScaling(scale=2.0, mode='fan_in', distribution='normal', seed=None))(input)\n",
        "\n",
        "  stack2 = BatchNormalization(axis=channel_axis, momentum=0.9997, scale=False)(conv1)\n",
        "  stack2 = Activation('relu')(stack2)\n",
        "\n",
        "  RCL = Convolution2D(filters=filedepth, kernel_size=kernel_size, strides=(1, 1), padding='same', \n",
        "                 kernel_regularizer=regularizers.l2(0.00004),\n",
        "                 kernel_initializer=initializers.VarianceScaling(scale=2.0, mode='fan_in', distribution='normal', seed=None))\n",
        "\n",
        "  conv2 = RCL(stack2)\n",
        "  stack3 = Add()([conv1, conv2])\n",
        "  stack4 = BatchNormalization(axis=channel_axis, momentum=0.9997, scale=False)(stack3)\n",
        "  stack4 = Activation('relu')(stack4)\n",
        "\n",
        "\n",
        "  conv3 = Convolution2D(filters=filedepth, kernel_size=kernel_size, strides=(1, 1), padding='same',\n",
        "                 weights=RCL.get_weights(),\n",
        "                 kernel_regularizer=regularizers.l2(0.00004),\n",
        "                 kernel_initializer=initializers.VarianceScaling(scale=2.0, mode='fan_in', distribution='normal', seed=None))(stack4)\n",
        "  stack5 = Add()([conv1, conv3])\n",
        "  stack6 = BatchNormalization(axis=channel_axis, momentum=0.9997, scale=False)(stack5)\n",
        "  stack6 = Activation('relu')(stack6)\n",
        "\n",
        "\n",
        "  conv4 = Convolution2D(filters=filedepth, kernel_size=kernel_size, strides=(1, 1), padding='same',\n",
        "                 weights=RCL.get_weights(),\n",
        "                 kernel_regularizer=regularizers.l2(0.00004),\n",
        "                 kernel_initializer=initializers.VarianceScaling(scale=2.0, mode='fan_in', distribution='normal', seed=None))(stack6)\n",
        "  stack7 = Add()([conv1, conv4])\n",
        "  stack8 = BatchNormalization(axis=channel_axis, momentum=0.9997, scale=False)(stack7)\n",
        "  stack8 = Activation('relu')(stack8)\n",
        "\n",
        "  return stack8\n",
        "\n",
        "\n",
        "def IRCNN_block(input):\n",
        "  if K.image_data_format() == 'channels_first':\n",
        "    channel_axis = 1\n",
        "  else:\n",
        "    channel_axis = -1\n",
        "\n",
        "  branch_0 = RCL(input, (1, 1), 64)\n",
        "\n",
        "  branch_1 = RCL(input, (3, 3), 128)\n",
        "\n",
        "  branch_2 = AveragePooling2D((3,3), strides=(1,1), padding='same')(input)\n",
        "  branch_2 = RCL(branch_2, (1, 1), 64)\n",
        "\n",
        "  x = concatenate([branch_0, branch_1, branch_2], axis=channel_axis)\n",
        "  return x"
      ],
      "metadata": {
        "id": "R04adRlviEnW"
      },
      "execution_count": null,
      "outputs": []
    },
    {
      "cell_type": "code",
      "source": [
        "def IRCNN_base(input):\n",
        "\n",
        "  if K.image_data_format() == 'channels_first':\n",
        "#     inputShape = (3, 256, 256)\n",
        "    channel_axis = 1\n",
        "  else:\n",
        "#     inputShape = (256, 256, 3)\n",
        "    channel_axis = -1\n",
        "\n",
        "  # Input Shape is 3 x 256 x 256\n",
        "  net = Convolution2D(32, (3, 3), strides=(2,2), padding='valid')(input)\n",
        "  net = conv2d_bn(net, 32, 3, 3, padding='valid')\n",
        "  net = conv2d_bn(net, 64, 3, 3)\n",
        "\n",
        "  net = IRCNN_block(input)\n",
        "                 \n",
        "  net = conv2d_bn(net, 32, 3, 3, strides=(2,2), padding='valid')\n",
        "  net = MaxPooling2D((3,3), strides=(2,2), padding='valid')(net)\n",
        "  net = Dropout(0.5)(net)\n",
        "\n",
        "  net = IRCNN_block(input)\n",
        "                 \n",
        "  net = conv2d_bn(net, 32, 3, 3, strides=(2,2), padding='valid')\n",
        "  net = MaxPooling2D((3,3), strides=(2,2), padding='valid')(net)\n",
        "  net = Dropout(0.5)(net)\n",
        "                 \n",
        "  net = IRCNN_block(input)\n",
        "                 \n",
        "  net = conv2d_bn(net, 32, 3, 3, strides=(2,2), padding='valid')\n",
        "  net = GlobalAveragePooling2D()(net)\n",
        "  net = Dropout(0.5)(net)\n",
        "  \n",
        "  \n",
        "  return net\t\t\t"
      ],
      "metadata": {
        "id": "AFdHl3W0iEp_"
      },
      "execution_count": null,
      "outputs": []
    },
    {
      "cell_type": "code",
      "source": [
        "if K.image_data_format() == 'channels_first':\n",
        "  inputs = Input(shape = (3, image_size, image_size))\n",
        "else:\n",
        "  inputs = Input(shape = (image_size, image_size, 3))\n",
        "\n",
        "# x = Convolution2D(32, (3, 3), strides=(2,2), padding='valid')(inputs)\n",
        "x = IRCNN_base(inputs)\n",
        "x = Dense(units=no_classes, activation='softmax')(x)\n",
        "\n",
        "model = Model(inputs, x, name='IRCNN')"
      ],
      "metadata": {
        "id": "3ooH2wsyiEvh"
      },
      "execution_count": null,
      "outputs": []
    },
    {
      "cell_type": "code",
      "source": [
        "model.summary()"
      ],
      "metadata": {
        "id": "NabTAlY4iEse",
        "colab": {
          "base_uri": "https://localhost:8080/"
        },
        "outputId": "12763c4b-2d85-4c23-92dc-17d856f0170c"
      },
      "execution_count": null,
      "outputs": [
        {
          "output_type": "stream",
          "name": "stdout",
          "text": [
            "Model: \"IRCNN\"\n",
            "__________________________________________________________________________________________________\n",
            " Layer (type)                   Output Shape         Param #     Connected to                     \n",
            "==================================================================================================\n",
            " input_1 (InputLayer)           [(None, 256, 256, 3  0           []                               \n",
            "                                )]                                                                \n",
            "                                                                                                  \n",
            " average_pooling2d_2 (AveragePo  (None, 256, 256, 3)  0          ['input_1[0][0]']                \n",
            " oling2D)                                                                                         \n",
            "                                                                                                  \n",
            " conv2d_29 (Conv2D)             (None, 256, 256, 64  256         ['input_1[0][0]']                \n",
            "                                )                                                                 \n",
            "                                                                                                  \n",
            " conv2d_33 (Conv2D)             (None, 256, 256, 12  3584        ['input_1[0][0]']                \n",
            "                                8)                                                                \n",
            "                                                                                                  \n",
            " conv2d_37 (Conv2D)             (None, 256, 256, 64  256         ['average_pooling2d_2[0][0]']    \n",
            "                                )                                                                 \n",
            "                                                                                                  \n",
            " batch_normalization_28 (BatchN  (None, 256, 256, 64  192        ['conv2d_29[0][0]']              \n",
            " ormalization)                  )                                                                 \n",
            "                                                                                                  \n",
            " batch_normalization_32 (BatchN  (None, 256, 256, 12  384        ['conv2d_33[0][0]']              \n",
            " ormalization)                  8)                                                                \n",
            "                                                                                                  \n",
            " batch_normalization_36 (BatchN  (None, 256, 256, 64  192        ['conv2d_37[0][0]']              \n",
            " ormalization)                  )                                                                 \n",
            "                                                                                                  \n",
            " activation_28 (Activation)     (None, 256, 256, 64  0           ['batch_normalization_28[0][0]'] \n",
            "                                )                                                                 \n",
            "                                                                                                  \n",
            " activation_32 (Activation)     (None, 256, 256, 12  0           ['batch_normalization_32[0][0]'] \n",
            "                                8)                                                                \n",
            "                                                                                                  \n",
            " activation_36 (Activation)     (None, 256, 256, 64  0           ['batch_normalization_36[0][0]'] \n",
            "                                )                                                                 \n",
            "                                                                                                  \n",
            " conv2d_30 (Conv2D)             (None, 256, 256, 64  4160        ['activation_28[0][0]']          \n",
            "                                )                                                                 \n",
            "                                                                                                  \n",
            " conv2d_34 (Conv2D)             (None, 256, 256, 12  147584      ['activation_32[0][0]']          \n",
            "                                8)                                                                \n",
            "                                                                                                  \n",
            " conv2d_38 (Conv2D)             (None, 256, 256, 64  4160        ['activation_36[0][0]']          \n",
            "                                )                                                                 \n",
            "                                                                                                  \n",
            " add_18 (Add)                   (None, 256, 256, 64  0           ['conv2d_29[0][0]',              \n",
            "                                )                                 'conv2d_30[0][0]']              \n",
            "                                                                                                  \n",
            " add_21 (Add)                   (None, 256, 256, 12  0           ['conv2d_33[0][0]',              \n",
            "                                8)                                'conv2d_34[0][0]']              \n",
            "                                                                                                  \n",
            " add_24 (Add)                   (None, 256, 256, 64  0           ['conv2d_37[0][0]',              \n",
            "                                )                                 'conv2d_38[0][0]']              \n",
            "                                                                                                  \n",
            " batch_normalization_29 (BatchN  (None, 256, 256, 64  192        ['add_18[0][0]']                 \n",
            " ormalization)                  )                                                                 \n",
            "                                                                                                  \n",
            " batch_normalization_33 (BatchN  (None, 256, 256, 12  384        ['add_21[0][0]']                 \n",
            " ormalization)                  8)                                                                \n",
            "                                                                                                  \n",
            " batch_normalization_37 (BatchN  (None, 256, 256, 64  192        ['add_24[0][0]']                 \n",
            " ormalization)                  )                                                                 \n",
            "                                                                                                  \n",
            " activation_29 (Activation)     (None, 256, 256, 64  0           ['batch_normalization_29[0][0]'] \n",
            "                                )                                                                 \n",
            "                                                                                                  \n",
            " activation_33 (Activation)     (None, 256, 256, 12  0           ['batch_normalization_33[0][0]'] \n",
            "                                8)                                                                \n",
            "                                                                                                  \n",
            " activation_37 (Activation)     (None, 256, 256, 64  0           ['batch_normalization_37[0][0]'] \n",
            "                                )                                                                 \n",
            "                                                                                                  \n",
            " conv2d_31 (Conv2D)             (None, 256, 256, 64  4160        ['activation_29[0][0]']          \n",
            "                                )                                                                 \n",
            "                                                                                                  \n",
            " conv2d_35 (Conv2D)             (None, 256, 256, 12  147584      ['activation_33[0][0]']          \n",
            "                                8)                                                                \n",
            "                                                                                                  \n",
            " conv2d_39 (Conv2D)             (None, 256, 256, 64  4160        ['activation_37[0][0]']          \n",
            "                                )                                                                 \n",
            "                                                                                                  \n",
            " add_19 (Add)                   (None, 256, 256, 64  0           ['conv2d_29[0][0]',              \n",
            "                                )                                 'conv2d_31[0][0]']              \n",
            "                                                                                                  \n",
            " add_22 (Add)                   (None, 256, 256, 12  0           ['conv2d_33[0][0]',              \n",
            "                                8)                                'conv2d_35[0][0]']              \n",
            "                                                                                                  \n",
            " add_25 (Add)                   (None, 256, 256, 64  0           ['conv2d_37[0][0]',              \n",
            "                                )                                 'conv2d_39[0][0]']              \n",
            "                                                                                                  \n",
            " batch_normalization_30 (BatchN  (None, 256, 256, 64  192        ['add_19[0][0]']                 \n",
            " ormalization)                  )                                                                 \n",
            "                                                                                                  \n",
            " batch_normalization_34 (BatchN  (None, 256, 256, 12  384        ['add_22[0][0]']                 \n",
            " ormalization)                  8)                                                                \n",
            "                                                                                                  \n",
            " batch_normalization_38 (BatchN  (None, 256, 256, 64  192        ['add_25[0][0]']                 \n",
            " ormalization)                  )                                                                 \n",
            "                                                                                                  \n",
            " activation_30 (Activation)     (None, 256, 256, 64  0           ['batch_normalization_30[0][0]'] \n",
            "                                )                                                                 \n",
            "                                                                                                  \n",
            " activation_34 (Activation)     (None, 256, 256, 12  0           ['batch_normalization_34[0][0]'] \n",
            "                                8)                                                                \n",
            "                                                                                                  \n",
            " activation_38 (Activation)     (None, 256, 256, 64  0           ['batch_normalization_38[0][0]'] \n",
            "                                )                                                                 \n",
            "                                                                                                  \n",
            " conv2d_32 (Conv2D)             (None, 256, 256, 64  4160        ['activation_30[0][0]']          \n",
            "                                )                                                                 \n",
            "                                                                                                  \n",
            " conv2d_36 (Conv2D)             (None, 256, 256, 12  147584      ['activation_34[0][0]']          \n",
            "                                8)                                                                \n",
            "                                                                                                  \n",
            " conv2d_40 (Conv2D)             (None, 256, 256, 64  4160        ['activation_38[0][0]']          \n",
            "                                )                                                                 \n",
            "                                                                                                  \n",
            " add_20 (Add)                   (None, 256, 256, 64  0           ['conv2d_29[0][0]',              \n",
            "                                )                                 'conv2d_32[0][0]']              \n",
            "                                                                                                  \n",
            " add_23 (Add)                   (None, 256, 256, 12  0           ['conv2d_33[0][0]',              \n",
            "                                8)                                'conv2d_36[0][0]']              \n",
            "                                                                                                  \n",
            " add_26 (Add)                   (None, 256, 256, 64  0           ['conv2d_37[0][0]',              \n",
            "                                )                                 'conv2d_40[0][0]']              \n",
            "                                                                                                  \n",
            " batch_normalization_31 (BatchN  (None, 256, 256, 64  192        ['add_20[0][0]']                 \n",
            " ormalization)                  )                                                                 \n",
            "                                                                                                  \n",
            " batch_normalization_35 (BatchN  (None, 256, 256, 12  384        ['add_23[0][0]']                 \n",
            " ormalization)                  8)                                                                \n",
            "                                                                                                  \n",
            " batch_normalization_39 (BatchN  (None, 256, 256, 64  192        ['add_26[0][0]']                 \n",
            " ormalization)                  )                                                                 \n",
            "                                                                                                  \n",
            " activation_31 (Activation)     (None, 256, 256, 64  0           ['batch_normalization_31[0][0]'] \n",
            "                                )                                                                 \n",
            "                                                                                                  \n",
            " activation_35 (Activation)     (None, 256, 256, 12  0           ['batch_normalization_35[0][0]'] \n",
            "                                8)                                                                \n",
            "                                                                                                  \n",
            " activation_39 (Activation)     (None, 256, 256, 64  0           ['batch_normalization_39[0][0]'] \n",
            "                                )                                                                 \n",
            "                                                                                                  \n",
            " concatenate_2 (Concatenate)    (None, 256, 256, 25  0           ['activation_31[0][0]',          \n",
            "                                6)                                'activation_35[0][0]',          \n",
            "                                                                  'activation_39[0][0]']          \n",
            "                                                                                                  \n",
            " conv2d_41 (Conv2D)             (None, 127, 127, 32  73728       ['concatenate_2[0][0]']          \n",
            "                                )                                                                 \n",
            "                                                                                                  \n",
            " batch_normalization_40 (BatchN  (None, 127, 127, 32  96         ['conv2d_41[0][0]']              \n",
            " ormalization)                  )                                                                 \n",
            "                                                                                                  \n",
            " activation_40 (Activation)     (None, 127, 127, 32  0           ['batch_normalization_40[0][0]'] \n",
            "                                )                                                                 \n",
            "                                                                                                  \n",
            " global_average_pooling2d (Glob  (None, 32)          0           ['activation_40[0][0]']          \n",
            " alAveragePooling2D)                                                                              \n",
            "                                                                                                  \n",
            " dropout_2 (Dropout)            (None, 32)           0           ['global_average_pooling2d[0][0]'\n",
            "                                                                 ]                                \n",
            "                                                                                                  \n",
            " dense (Dense)                  (None, 10)           330         ['dropout_2[0][0]']              \n",
            "                                                                                                  \n",
            "==================================================================================================\n",
            "Total params: 549,034\n",
            "Trainable params: 546,922\n",
            "Non-trainable params: 2,112\n",
            "__________________________________________________________________________________________________\n"
          ]
        }
      ]
    },
    {
      "cell_type": "code",
      "source": [
        "# adam = optimizers.Adam(lr=0.001, beta_1=0.9, beta_2=0.999)\n",
        "sgd = tf.keras.optimizers.SGD(lr=0.01)\n",
        "\n",
        "#filepath=\"./weights-{epoch:02d}-{val_acc:.2f}.hdf5\"\n",
        "\n",
        "#mcp = callbacks.ModelCheckpoint(filepath=filepath, monitor='val_acc', verbose=1, save_best_only=True, mode='max')\n",
        "#callbacks_list = [mcp]\n",
        "\n",
        "model.compile(loss='categorical_crossentropy', optimizer=sgd, metrics=[\"accuracy\"])"
      ],
      "metadata": {
        "id": "ThLpMG8ViEzD",
        "colab": {
          "base_uri": "https://localhost:8080/"
        },
        "outputId": "dfad9764-063e-4610-8edf-ad2e71bd4b0a"
      },
      "execution_count": null,
      "outputs": [
        {
          "output_type": "stream",
          "name": "stderr",
          "text": [
            "/usr/local/lib/python3.7/dist-packages/keras/optimizer_v2/gradient_descent.py:102: UserWarning: The `lr` argument is deprecated, use `learning_rate` instead.\n",
            "  super(SGD, self).__init__(name, **kwargs)\n"
          ]
        }
      ]
    },
    {
      "cell_type": "code",
      "source": [
        "train_step=train_generator.n//train_generator.batch_size\n",
        "valid_step=validation_generator.n//validation_generator.batch_size"
      ],
      "metadata": {
        "id": "QqZvZjIoiE12"
      },
      "execution_count": null,
      "outputs": []
    },
    {
      "cell_type": "code",
      "source": [
        "history=model.fit_generator(\n",
        "    train_generator,\n",
        "    steps_per_epoch=train_step,\n",
        "    validation_data=validation_generator,\n",
        "    validation_steps=valid_step,\n",
        "    epochs=50,\n",
        "    #callbacks=callbacks_list,\n",
        "    verbose=1\n",
        "    )"
      ],
      "metadata": {
        "id": "8lId5SogiE5R",
        "colab": {
          "base_uri": "https://localhost:8080/"
        },
        "outputId": "31217cc5-aa7e-493f-ec9d-d84374484efe"
      },
      "execution_count": null,
      "outputs": [
        {
          "output_type": "stream",
          "name": "stderr",
          "text": [
            "/usr/local/lib/python3.7/dist-packages/ipykernel_launcher.py:8: UserWarning: `Model.fit_generator` is deprecated and will be removed in a future version. Please use `Model.fit`, which supports generators.\n",
            "  \n"
          ]
        },
        {
          "output_type": "stream",
          "name": "stdout",
          "text": [
            "Epoch 1/50\n",
            "375/375 [==============================] - 1576s 4s/step - loss: 1.9970 - accuracy: 0.3080 - val_loss: 3.0573 - val_accuracy: 0.0999\n",
            "Epoch 2/50\n",
            "375/375 [==============================] - 196s 524ms/step - loss: 1.6929 - accuracy: 0.4200 - val_loss: 4.4342 - val_accuracy: 0.1003\n",
            "Epoch 3/50\n",
            "375/375 [==============================] - 196s 523ms/step - loss: 1.5286 - accuracy: 0.4883 - val_loss: 3.8260 - val_accuracy: 0.0999\n",
            "Epoch 4/50\n",
            "375/375 [==============================] - 196s 523ms/step - loss: 1.4368 - accuracy: 0.4955 - val_loss: 2.9639 - val_accuracy: 0.1003\n",
            "Epoch 5/50\n",
            "375/375 [==============================] - 196s 523ms/step - loss: 1.3678 - accuracy: 0.5315 - val_loss: 2.3650 - val_accuracy: 0.1357\n",
            "Epoch 6/50\n",
            "375/375 [==============================] - 196s 523ms/step - loss: 1.3021 - accuracy: 0.5492 - val_loss: 2.3299 - val_accuracy: 0.1845\n",
            "Epoch 7/50\n",
            "375/375 [==============================] - 196s 523ms/step - loss: 1.2625 - accuracy: 0.5600 - val_loss: 1.9852 - val_accuracy: 0.2560\n",
            "Epoch 8/50\n",
            "375/375 [==============================] - 196s 523ms/step - loss: 1.2363 - accuracy: 0.5713 - val_loss: 1.6744 - val_accuracy: 0.4311\n",
            "Epoch 9/50\n",
            "375/375 [==============================] - 196s 523ms/step - loss: 1.1833 - accuracy: 0.5980 - val_loss: 1.5398 - val_accuracy: 0.4632\n",
            "Epoch 10/50\n",
            "375/375 [==============================] - 196s 523ms/step - loss: 1.1664 - accuracy: 0.6025 - val_loss: 1.5494 - val_accuracy: 0.5000\n",
            "Epoch 11/50\n",
            "375/375 [==============================] - 196s 523ms/step - loss: 1.1249 - accuracy: 0.6275 - val_loss: 1.3753 - val_accuracy: 0.5675\n",
            "Epoch 12/50\n",
            "375/375 [==============================] - 196s 523ms/step - loss: 1.1162 - accuracy: 0.6183 - val_loss: 1.2762 - val_accuracy: 0.5742\n",
            "Epoch 13/50\n",
            "375/375 [==============================] - 196s 523ms/step - loss: 1.0924 - accuracy: 0.6365 - val_loss: 1.3486 - val_accuracy: 0.5127\n",
            "Epoch 14/50\n",
            "375/375 [==============================] - 196s 523ms/step - loss: 1.0775 - accuracy: 0.6428 - val_loss: 1.2114 - val_accuracy: 0.5926\n",
            "Epoch 15/50\n",
            "375/375 [==============================] - 196s 523ms/step - loss: 1.0480 - accuracy: 0.6522 - val_loss: 1.3080 - val_accuracy: 0.5959\n",
            "Epoch 16/50\n",
            "375/375 [==============================] - 196s 523ms/step - loss: 1.0335 - accuracy: 0.6667 - val_loss: 1.0432 - val_accuracy: 0.7400\n",
            "Epoch 17/50\n",
            "375/375 [==============================] - 196s 523ms/step - loss: 1.0083 - accuracy: 0.6698 - val_loss: 1.0012 - val_accuracy: 0.7193\n",
            "Epoch 18/50\n",
            "375/375 [==============================] - 196s 523ms/step - loss: 0.9857 - accuracy: 0.6870 - val_loss: 1.0321 - val_accuracy: 0.6932\n",
            "Epoch 19/50\n",
            "375/375 [==============================] - 196s 523ms/step - loss: 0.9806 - accuracy: 0.6950 - val_loss: 0.9287 - val_accuracy: 0.8142\n",
            "Epoch 20/50\n",
            "375/375 [==============================] - 196s 523ms/step - loss: 0.9567 - accuracy: 0.6992 - val_loss: 0.9277 - val_accuracy: 0.8202\n",
            "Epoch 21/50\n",
            "375/375 [==============================] - 196s 523ms/step - loss: 0.9429 - accuracy: 0.7068 - val_loss: 0.8795 - val_accuracy: 0.8349\n",
            "Epoch 22/50\n",
            "375/375 [==============================] - 196s 523ms/step - loss: 0.9395 - accuracy: 0.7050 - val_loss: 0.8288 - val_accuracy: 0.8292\n",
            "Epoch 23/50\n",
            "375/375 [==============================] - 196s 523ms/step - loss: 0.9177 - accuracy: 0.7112 - val_loss: 0.8169 - val_accuracy: 0.8519\n",
            "Epoch 24/50\n",
            "375/375 [==============================] - 196s 523ms/step - loss: 0.8931 - accuracy: 0.7330 - val_loss: 0.7793 - val_accuracy: 0.8606\n",
            "Epoch 25/50\n",
            "375/375 [==============================] - 196s 523ms/step - loss: 0.8823 - accuracy: 0.7405 - val_loss: 0.7809 - val_accuracy: 0.8827\n",
            "Epoch 26/50\n",
            "375/375 [==============================] - 196s 523ms/step - loss: 0.8644 - accuracy: 0.7508 - val_loss: 0.7429 - val_accuracy: 0.8479\n",
            "Epoch 27/50\n",
            "375/375 [==============================] - 196s 523ms/step - loss: 0.8627 - accuracy: 0.7475 - val_loss: 0.7057 - val_accuracy: 0.8780\n",
            "Epoch 28/50\n",
            "375/375 [==============================] - 196s 523ms/step - loss: 0.8420 - accuracy: 0.7562 - val_loss: 0.6902 - val_accuracy: 0.9178\n",
            "Epoch 29/50\n",
            "375/375 [==============================] - 196s 523ms/step - loss: 0.8360 - accuracy: 0.7538 - val_loss: 0.7354 - val_accuracy: 0.8760\n",
            "Epoch 30/50\n",
            "375/375 [==============================] - 196s 523ms/step - loss: 0.8315 - accuracy: 0.7670 - val_loss: 0.6610 - val_accuracy: 0.9328\n",
            "Epoch 31/50\n",
            "375/375 [==============================] - 196s 523ms/step - loss: 0.8187 - accuracy: 0.7723 - val_loss: 0.6304 - val_accuracy: 0.8790\n",
            "Epoch 32/50\n",
            "375/375 [==============================] - 196s 523ms/step - loss: 0.8095 - accuracy: 0.7688 - val_loss: 0.6413 - val_accuracy: 0.9124\n",
            "Epoch 33/50\n",
            "375/375 [==============================] - 196s 523ms/step - loss: 0.7937 - accuracy: 0.7858 - val_loss: 0.6731 - val_accuracy: 0.8529\n",
            "Epoch 34/50\n",
            "375/375 [==============================] - 196s 523ms/step - loss: 0.7852 - accuracy: 0.7813 - val_loss: 0.5801 - val_accuracy: 0.8820\n",
            "Epoch 35/50\n",
            "375/375 [==============================] - 196s 523ms/step - loss: 0.7879 - accuracy: 0.7830 - val_loss: 0.5750 - val_accuracy: 0.9081\n",
            "Epoch 36/50\n",
            "375/375 [==============================] - 196s 523ms/step - loss: 0.7648 - accuracy: 0.7918 - val_loss: 0.5806 - val_accuracy: 0.8944\n",
            "Epoch 37/50\n",
            "375/375 [==============================] - 196s 523ms/step - loss: 0.7662 - accuracy: 0.7927 - val_loss: 0.5525 - val_accuracy: 0.9489\n",
            "Epoch 38/50\n",
            "375/375 [==============================] - 196s 523ms/step - loss: 0.7439 - accuracy: 0.8007 - val_loss: 0.5511 - val_accuracy: 0.9228\n",
            "Epoch 39/50\n",
            "375/375 [==============================] - 196s 523ms/step - loss: 0.7419 - accuracy: 0.7997 - val_loss: 0.5488 - val_accuracy: 0.9068\n",
            "Epoch 40/50\n",
            "375/375 [==============================] - 196s 523ms/step - loss: 0.7351 - accuracy: 0.7993 - val_loss: 0.5285 - val_accuracy: 0.9201\n",
            "Epoch 41/50\n",
            "375/375 [==============================] - 196s 523ms/step - loss: 0.7203 - accuracy: 0.8110 - val_loss: 0.5700 - val_accuracy: 0.8994\n",
            "Epoch 42/50\n",
            "375/375 [==============================] - 196s 523ms/step - loss: 0.7035 - accuracy: 0.8142 - val_loss: 0.5081 - val_accuracy: 0.9465\n",
            "Epoch 43/50\n",
            "375/375 [==============================] - 196s 523ms/step - loss: 0.7151 - accuracy: 0.8102 - val_loss: 0.4948 - val_accuracy: 0.9315\n",
            "Epoch 44/50\n",
            "375/375 [==============================] - 196s 523ms/step - loss: 0.6964 - accuracy: 0.8150 - val_loss: 0.4958 - val_accuracy: 0.9305\n",
            "Epoch 45/50\n",
            "375/375 [==============================] - 196s 523ms/step - loss: 0.6897 - accuracy: 0.8175 - val_loss: 0.4745 - val_accuracy: 0.9268\n",
            "Epoch 46/50\n",
            "375/375 [==============================] - 196s 523ms/step - loss: 0.6926 - accuracy: 0.8207 - val_loss: 0.4723 - val_accuracy: 0.9305\n",
            "Epoch 47/50\n",
            "375/375 [==============================] - 196s 523ms/step - loss: 0.6669 - accuracy: 0.8320 - val_loss: 0.4633 - val_accuracy: 0.9535\n",
            "Epoch 48/50\n",
            "375/375 [==============================] - 196s 523ms/step - loss: 0.6767 - accuracy: 0.8263 - val_loss: 0.4387 - val_accuracy: 0.9418\n",
            "Epoch 49/50\n",
            "375/375 [==============================] - 196s 523ms/step - loss: 0.6708 - accuracy: 0.8272 - val_loss: 0.4314 - val_accuracy: 0.9662\n",
            "Epoch 50/50\n",
            "375/375 [==============================] - 196s 523ms/step - loss: 0.6488 - accuracy: 0.8433 - val_loss: 0.5197 - val_accuracy: 0.8917\n"
          ]
        }
      ]
    },
    {
      "cell_type": "code",
      "source": [
        "import matplotlib.pyplot as plt\n",
        "IMG_SIZE = 256 \n",
        "epochs=50"
      ],
      "metadata": {
        "id": "9lY7VGU1WC7t"
      },
      "execution_count": null,
      "outputs": []
    },
    {
      "cell_type": "code",
      "source": [
        "acc = history.history['accuracy']\n",
        "val_acc =history.history['val_accuracy']\n",
        "\n",
        "loss = history.history['loss']\n",
        "val_loss = history.history['val_loss']\n",
        "\n",
        "epochs_range = range(epochs)\n",
        "\n",
        "plt.figure(figsize=(8, 8))\n",
        "plt.subplot(1, 2, 1)\n",
        "plt.plot(epochs_range, acc, label='Training Accuracy')\n",
        "plt.plot(epochs_range, val_acc, label='Validation Accuracy')\n",
        "plt.legend(loc='lower right')\n",
        "plt.title('Training and Validation Accuracy')\n",
        "\n",
        "plt.subplot(1, 2, 2)\n",
        "plt.plot(epochs_range, loss, label='Training Loss')\n",
        "plt.plot(epochs_range, val_loss, label='Validation Loss')\n",
        "plt.legend(loc='upper right')\n",
        "plt.title('Training and Validation Loss')\n",
        "plt.show()"
      ],
      "metadata": {
        "id": "PdVpiYBYWCp0",
        "colab": {
          "base_uri": "https://localhost:8080/",
          "height": 499
        },
        "outputId": "06290210-c14c-43c7-bb35-6d156f54acff"
      },
      "execution_count": null,
      "outputs": [
        {
          "output_type": "display_data",
          "data": {
            "text/plain": [
              "<Figure size 576x576 with 2 Axes>"
            ],
            "image/png": "[encoded data removed]"
          },
          "metadata": {
            "needs_background": "light"
          }
        }
      ]
    },
    {
      "cell_type": "code",
      "source": [
        "model.save('/content/drive/MyDrive/ saved_model')"
      ],
      "metadata": {
        "id": "C-aCl3IlAZww",
        "colab": {
          "base_uri": "https://localhost:8080/"
        },
        "outputId": "ea30db23-c79f-4316-88e8-ff9c7fa4ffa7"
      },
      "execution_count": null,
      "outputs": [
        {
          "output_type": "stream",
          "name": "stdout",
          "text": [
            "INFO:tensorflow:Assets written to: /content/drive/MyDrive/ saved_model/assets\n"
          ]
        }
      ]
    },
    {
      "cell_type": "code",
      "source": [
        "test_generator = aug.flow_from_directory(\n",
        "    '/content/drive/MyDrive/TDS/Data Set/Testing Dataset', # same directory as training data\n",
        "    target_size=(256, 256),\n",
        "    batch_size=bs)"
      ],
      "metadata": {
        "id": "uH41Z_6AUajN",
        "colab": {
          "base_uri": "https://localhost:8080/"
        },
        "outputId": "074741c8-9679-43a3-cd14-1d7989f450f1"
      },
      "execution_count": null,
      "outputs": [
        {
          "output_type": "stream",
          "name": "stdout",
          "text": [
            "Found 2000 images belonging to 10 classes.\n"
          ]
        }
      ]
    },
    {
      "cell_type": "code",
      "source": [
        "from tensorflow import keras\n",
        "new_model = keras.models.load_model('/content/drive/MyDrive/ saved_model')"
      ],
      "metadata": {
        "id": "3YhL52SUypXQ"
      },
      "execution_count": null,
      "outputs": []
    },
    {
      "cell_type": "code",
      "source": [
        " # You can also evaluate or predict on a dataset.\n",
        "print(\"Evaluate\")\n",
        "result = new_model.evaluate(test_generator)\n",
        "dict(zip(new_model.metrics_names, result))"
      ],
      "metadata": {
        "id": "EH147En8AaS-",
        "colab": {
          "base_uri": "https://localhost:8080/"
        },
        "outputId": "62bccd4c-f1f9-4b98-ba5d-454ecceb907e"
      },
      "execution_count": null,
      "outputs": [
        {
          "output_type": "stream",
          "name": "stdout",
          "text": [
            "Evaluate\n",
            "125/125 [==============================] - 367s 3s/step - loss: 0.5389 - accuracy: 0.9005\n"
          ]
        },
        {
          "output_type": "execute_result",
          "data": {
            "text/plain": [
              "{'accuracy': 0.9004999995231628, 'loss': 0.5389176607131958}"
            ]
          },
          "metadata": {},
          "execution_count": 20
        }
      ]
    }
  ]
}